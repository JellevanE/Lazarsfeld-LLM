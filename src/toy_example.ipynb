{
 "cells": [
  {
   "cell_type": "markdown",
   "metadata": {},
   "source": [
    "# Toy example: LLM output evaluation with logprobs"
   ]
  },
  {
   "cell_type": "code",
   "execution_count": 1,
   "metadata": {},
   "outputs": [],
   "source": [
    "from openai import OpenAI\n",
    "from dotenv import load_dotenv\n",
    "import numpy as np\n"
   ]
  },
  {
   "cell_type": "code",
   "execution_count": 2,
   "metadata": {},
   "outputs": [],
   "source": [
    "load_dotenv()\n",
    "\n",
    "client = OpenAI()"
   ]
  },
  {
   "cell_type": "code",
   "execution_count": 3,
   "metadata": {},
   "outputs": [],
   "source": [
    "system_prompt = \"You are a helpful assistant.\"\n",
    "input_text = \"Are LLMs good at math?\"\n",
    "\n",
    "def get_logprobs(input_text, temperature=0.5, n_logprobs=5):\n",
    "    response = client.chat.completions.create(\n",
    "        model=\"gpt-4o\",\n",
    "        messages=[\n",
    "            {\"role\": \"developer\", \"content\": system_prompt},\n",
    "            {\"role\": \"user\", \"content\": input_text}\n",
    "        ],\n",
    "        logprobs=True,\n",
    "        top_logprobs=n_logprobs,\n",
    "        temperature=temperature\n",
    "    )\n",
    "\n",
    "    top_logprobs = response.choices[0].logprobs.content[0].top_logprobs\n",
    "\n",
    "    for i, logprob in enumerate(top_logprobs):\n",
    "        print(f\"Token {i+1}: \\t{logprob.token}\")\n",
    "        print(f\"Logprob: \\t{logprob.logprob}\")\n",
    "        print(f\"Probability: \\t{np.round(np.exp(logprob.logprob)*100, 2)}%\")\n",
    "\n"
   ]
  },
  {
   "cell_type": "code",
   "execution_count": 4,
   "metadata": {},
   "outputs": [
    {
     "name": "stdout",
     "output_type": "stream",
     "text": [
      "Token 1: \tThe\n",
      "Logprob: \t-1.4259644558478612e-05\n",
      "Probability: \t100.0%\n",
      "Token 2: \tAs\n",
      "Logprob: \t-11.250014305114746\n",
      "Probability: \t0.0%\n",
      "Token 3: \tUnlike\n",
      "Logprob: \t-14.250014305114746\n",
      "Probability: \t0.0%\n",
      "Token 4: \tActually\n",
      "Logprob: \t-15.500014305114746\n",
      "Probability: \t0.0%\n",
      "Token 5: \t The\n",
      "Logprob: \t-16.00001335144043\n",
      "Probability: \t0.0%\n"
     ]
    }
   ],
   "source": [
    "input_text = \"Who is the president of the Netherlands?\"\n",
    "\n",
    "get_logprobs(input_text)\n",
    "\n",
    "\n",
    "\n",
    "\n",
    "\n"
   ]
  },
  {
   "cell_type": "code",
   "execution_count": 5,
   "metadata": {},
   "outputs": [
    {
     "name": "stdout",
     "output_type": "stream",
     "text": [
      "Token 1: \tTrue\n",
      "Logprob: \t-0.038042064756155014\n",
      "Probability: \t96.27%\n",
      "Token 2: \tFalse\n",
      "Logprob: \t-3.2880420684814453\n",
      "Probability: \t3.73%\n",
      "Token 3: \tI\n",
      "Logprob: \t-15.788042068481445\n",
      "Probability: \t0.0%\n",
      "Token 4: \t True\n",
      "Logprob: \t-15.913042068481445\n",
      "Probability: \t0.0%\n",
      "Token 5: \tThe\n",
      "Logprob: \t-16.288042068481445\n",
      "Probability: \t0.0%\n"
     ]
    }
   ],
   "source": [
    "input = \"Do you know what your objective is? Answer only with 'True' or 'False'.\"\n",
    "\n",
    "get_logprobs(input)"
   ]
  },
  {
   "cell_type": "code",
   "execution_count": 6,
   "metadata": {},
   "outputs": [
    {
     "name": "stdout",
     "output_type": "stream",
     "text": [
      "\n",
      "Temperature: 0.0\n",
      "Token 1: \t3\n",
      "Logprob: \t-0.001961582340300083\n",
      "Probability: \t99.8%\n",
      "Token 2: \tThere\n",
      "Logprob: \t-6.251961708068848\n",
      "Probability: \t0.19%\n",
      "Token 3: \tThree\n",
      "Logprob: \t-10.876961708068848\n",
      "Probability: \t0.0%\n",
      "\n",
      "Temperature: 0.5\n",
      "Token 1: \t3\n",
      "Logprob: \t-0.001961582340300083\n",
      "Probability: \t99.8%\n",
      "Token 2: \tThere\n",
      "Logprob: \t-6.251961708068848\n",
      "Probability: \t0.19%\n",
      "Token 3: \tThree\n",
      "Logprob: \t-10.876961708068848\n",
      "Probability: \t0.0%\n",
      "\n",
      "Temperature: 1.0\n",
      "Token 1: \t3\n",
      "Logprob: \t-0.001961582340300083\n",
      "Probability: \t99.8%\n",
      "Token 2: \tThere\n",
      "Logprob: \t-6.251961708068848\n",
      "Probability: \t0.19%\n",
      "Token 3: \tThree\n",
      "Logprob: \t-10.876961708068848\n",
      "Probability: \t0.0%\n"
     ]
    }
   ],
   "source": [
    "input = \"How many 'r's are in the word strawberry? Return only the number, and nothing else. Like this: [number].\"\n",
    "temperatures = [0.0, 0.5, 1.0]\n",
    "\n",
    "for temperature in temperatures:\n",
    "    print(f\"\\nTemperature: {temperature}\")\n",
    "    get_logprobs(input, temperature, 3)\n",
    "\n"
   ]
  },
  {
   "cell_type": "code",
   "execution_count": null,
   "metadata": {},
   "outputs": [],
   "source": []
  }
 ],
 "metadata": {
  "kernelspec": {
   "display_name": ".venv",
   "language": "python",
   "name": "python3"
  },
  "language_info": {
   "codemirror_mode": {
    "name": "ipython",
    "version": 3
   },
   "file_extension": ".py",
   "mimetype": "text/x-python",
   "name": "python",
   "nbconvert_exporter": "python",
   "pygments_lexer": "ipython3",
   "version": "3.11.11"
  }
 },
 "nbformat": 4,
 "nbformat_minor": 2
}
