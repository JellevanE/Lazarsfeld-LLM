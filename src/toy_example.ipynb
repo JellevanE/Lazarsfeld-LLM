{
 "cells": [
  {
   "cell_type": "markdown",
   "metadata": {},
   "source": [
    "# Toy example: LLM output evaluation with logprobs"
   ]
  },
  {
   "cell_type": "code",
   "execution_count": null,
   "metadata": {},
   "outputs": [],
   "source": [
    "from openai import OpenAI\n",
    "from dotenv import load_dotenv\n",
    "import numpy as np\n"
   ]
  },
  {
   "cell_type": "code",
   "execution_count": null,
   "metadata": {},
   "outputs": [],
   "source": [
    "load_dotenv()\n",
    "\n",
    "client = OpenAI()"
   ]
  },
  {
   "cell_type": "code",
   "execution_count": null,
   "metadata": {},
   "outputs": [],
   "source": [
    "system_prompt = \"You are a helpful assistant.\"\n",
    "input_text = \"Are LLMs good at math?\"\n",
    "\n",
    "def get_logprobs(input_text, temperature=0.5, n_logprobs=5):\n",
    "    response = client.chat.completions.create(\n",
    "        model=\"gpt-4o\",\n",
    "        messages=[\n",
    "            {\"role\": \"developer\", \"content\": system_prompt},\n",
    "            {\"role\": \"user\", \"content\": input_text}\n",
    "        ],\n",
    "        logprobs=True,\n",
    "        top_logprobs=n_logprobs,\n",
    "        temperature=temperature\n",
    "    )\n",
    "\n",
    "    top_logprobs = response.choices[0].logprobs.content[0].top_logprobs\n",
    "\n",
    "    for i, logprob in enumerate(top_logprobs):\n",
    "        print(f\"Token {i+1}: \\t{logprob.token}\")\n",
    "        print(f\"Logprob: \\t{logprob.logprob}\")\n",
    "        print(f\"Probability: \\t{np.round(np.exp(logprob.logprob)*100, 2)}%\")\n",
    "\n"
   ]
  },
  {
   "cell_type": "code",
   "execution_count": null,
   "metadata": {},
   "outputs": [],
   "source": [
    "input_text = \"Who is the president of the Netherlands?\"\n",
    "\n",
    "get_logprobs(input_text)\n",
    "\n",
    "\n",
    "\n",
    "\n",
    "\n"
   ]
  },
  {
   "cell_type": "code",
   "execution_count": null,
   "metadata": {},
   "outputs": [],
   "source": [
    "input = \"Do you know what your objective is? Answer only with 'True' or 'False'.\"\n",
    "\n",
    "get_logprobs(input)"
   ]
  },
  {
   "cell_type": "code",
   "execution_count": null,
   "metadata": {},
   "outputs": [],
   "source": [
    "input = \"How many 'r's are in the word strawberry? Return only the number, and nothing else. Like this: [number].\"\n",
    "temperatures = [0.0, 0.5, 1.0]\n",
    "\n",
    "for temperature in temperatures:\n",
    "    print(f\"\\nTemperature: {temperature}\")\n",
    "    get_logprobs(input, temperature, 3)\n",
    "\n"
   ]
  },
  {
   "cell_type": "code",
   "execution_count": null,
   "metadata": {},
   "outputs": [],
   "source": []
  }
 ],
 "metadata": {
  "kernelspec": {
   "display_name": ".venv",
   "language": "python",
   "name": "python3"
  },
  "language_info": {
   "codemirror_mode": {
    "name": "ipython",
    "version": 3
   },
   "file_extension": ".py",
   "mimetype": "text/x-python",
   "name": "python",
   "nbconvert_exporter": "python",
   "pygments_lexer": "ipython3",
   "version": "3.11.11"
  }
 },
 "nbformat": 4,
 "nbformat_minor": 2
}
