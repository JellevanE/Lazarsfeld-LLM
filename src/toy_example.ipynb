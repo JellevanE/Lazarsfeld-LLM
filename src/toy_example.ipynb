{
 "cells": [
  {
   "cell_type": "markdown",
   "metadata": {},
   "source": [
    "# Toy example: LLM output evaluation with logprobs"
   ]
  },
  {
   "cell_type": "code",
   "execution_count": 1,
   "metadata": {},
   "outputs": [],
   "source": [
    "from openai import OpenAI\n",
    "from dotenv import load_dotenv\n",
    "import numpy as np\n"
   ]
  },
  {
   "cell_type": "code",
   "execution_count": 3,
   "metadata": {},
   "outputs": [],
   "source": [
    "load_dotenv()\n",
    "\n",
    "client = OpenAI()"
   ]
  },
  {
   "cell_type": "code",
   "execution_count": 11,
   "metadata": {},
   "outputs": [],
   "source": [
    "system_prompt = \"You are a helpful assistant.\"\n",
    "input_text = \"Are LLMs good at math?\"\n",
    "\n",
    "def get_logprobs(input_text, n_logprobs=5):\n",
    "    response = client.chat.completions.create(\n",
    "        model=\"gpt-3.5-turbo\",\n",
    "        messages=[\n",
    "            {\"role\": \"developer\", \"content\": system_prompt},\n",
    "            {\"role\": \"user\", \"content\": input_text}\n",
    "        ],\n",
    "        logprobs=True,\n",
    "        top_logprobs=5\n",
    "    )\n",
    "\n",
    "    top_logprobs = response.choices[0].logprobs.content[0].top_logprobs\n",
    "\n",
    "    for i, logprob in enumerate(top_logprobs):\n",
    "        print(f\"Token {i+1}: \\t{logprob.token}\")\n",
    "        print(f\"Logprob: \\t{logprob.logprob}\")\n",
    "        print(f\"Probability: \\t{np.round(np.exp(logprob.logprob)*100, 2)}%\")\n",
    "\n"
   ]
  },
  {
   "cell_type": "code",
   "execution_count": 21,
   "metadata": {},
   "outputs": [
    {
     "name": "stdout",
     "output_type": "stream",
     "text": [
      "Token 1: \tThe\n",
      "Logprob: \t-0.0067088553\n",
      "Probability: \t99.33%\n",
      "Token 2: \tIn\n",
      "Logprob: \t-5.308501\n",
      "Probability: \t0.49%\n",
      "Token 3: \tAs\n",
      "Logprob: \t-6.557772\n",
      "Probability: \t0.14%\n",
      "Token 4: \tThere\n",
      "Logprob: \t-9.561204\n",
      "Probability: \t0.01%\n",
      "Token 5: \t The\n",
      "Logprob: \t-9.80309\n",
      "Probability: \t0.01%\n"
     ]
    }
   ],
   "source": [
    "input_text = \"Who is the president of the Netherlands?\"\n",
    "\n",
    "get_logprobs(input_text)"
   ]
  },
  {
   "cell_type": "code",
   "execution_count": 19,
   "metadata": {},
   "outputs": [
    {
     "name": "stdout",
     "output_type": "stream",
     "text": [
      "Token 1: \tTrue\n",
      "Logprob: \t-0.093343645\n",
      "Probability: \t91.09%\n",
      "Token 2: \tFalse\n",
      "Logprob: \t-2.4178905\n",
      "Probability: \t8.91%\n",
      "Token 3: \tI\n",
      "Logprob: \t-12.073551\n",
      "Probability: \t0.0%\n",
      "Token 4: \t True\n",
      "Logprob: \t-13.58905\n",
      "Probability: \t0.0%\n",
      "Token 5: \tNot\n",
      "Logprob: \t-14.490782\n",
      "Probability: \t0.0%\n"
     ]
    }
   ],
   "source": [
    "input = \"Do you know what your objective is? Answer only with 'True' or 'False'.\"\n",
    "\n",
    "get_logprobs(input)"
   ]
  },
  {
   "cell_type": "code",
   "execution_count": null,
   "metadata": {},
   "outputs": [],
   "source": []
  },
  {
   "cell_type": "code",
   "execution_count": null,
   "metadata": {},
   "outputs": [],
   "source": []
  }
 ],
 "metadata": {
  "kernelspec": {
   "display_name": ".venv",
   "language": "python",
   "name": "python3"
  },
  "language_info": {
   "codemirror_mode": {
    "name": "ipython",
    "version": 3
   },
   "file_extension": ".py",
   "mimetype": "text/x-python",
   "name": "python",
   "nbconvert_exporter": "python",
   "pygments_lexer": "ipython3",
   "version": "3.11.11"
  }
 },
 "nbformat": 4,
 "nbformat_minor": 2
}
